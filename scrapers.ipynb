{
 "cells": [
  {
   "cell_type": "code",
   "execution_count": 4,
   "id": "92daa4cb",
   "metadata": {},
   "outputs": [],
   "source": [
    "import selenium\n",
    "from selenium import webdriver\n",
    "from selenium.webdriver.chrome.service import Service\n",
    "import bs4\n",
    "from bs4 import BeautifulSoup"
   ]
  },
  {
   "cell_type": "code",
   "execution_count": null,
   "id": "231679ad",
   "metadata": {},
   "outputs": [],
   "source": [
    "# I don't get this part just yet...connects to a the Chrome browser so it can be able to scrape?\n",
    "#alright. this code creates a Selenium Webdriver for Chrome\n",
    "\n",
    "#the path to chromedriver\n",
    "service = Service('/Users/angel/Downloads/chrome-mac-x64')\n",
    "# Initialize the WebDriver\n",
    "driver = webdriver.Chrome(service=service)"
   ]
  },
  {
   "cell_type": "code",
   "execution_count": null,
   "id": "33b88fc3",
   "metadata": {},
   "outputs": [],
   "source": [
    "#testing testing\n",
    "driver.get('https://books.toscrape.com/')"
   ]
  },
  {
   "cell_type": "code",
   "execution_count": null,
   "id": "568440e4",
   "metadata": {},
   "outputs": [],
   "source": []
  },
  {
   "cell_type": "markdown",
   "id": "59b2071c",
   "metadata": {},
   "source": [
    "Grabbing each element in books.toscrape.come"
   ]
  },
  {
   "cell_type": "code",
   "execution_count": null,
   "id": "379ed1a5",
   "metadata": {},
   "outputs": [],
   "source": [
    "title_element = driver.find_element_by_xpath('//*[@id=\"default\"]/div/div/div/div/section/div[2]/ol/li[1]/article/h3/a')[0]"
   ]
  },
  {
   "cell_type": "code",
   "execution_count": null,
   "id": "eb77612e",
   "metadata": {},
   "outputs": [],
   "source": [
    "title = title_element.text\n",
    "title"
   ]
  },
  {
   "cell_type": "code",
   "execution_count": null,
   "id": "0e8c8ce6",
   "metadata": {},
   "outputs": [],
   "source": [
    "title = title_element.get_atribute('title')\n",
    "title #should be \"A Light in the Attic\""
   ]
  },
  {
   "cell_type": "code",
   "execution_count": null,
   "id": "13dd256e",
   "metadata": {},
   "outputs": [],
   "source": []
  }
 ],
 "metadata": {
  "kernelspec": {
   "display_name": "global_env",
   "language": "python",
   "name": "python3"
  },
  "language_info": {
   "codemirror_mode": {
    "name": "ipython",
    "version": 3
   },
   "file_extension": ".py",
   "mimetype": "text/x-python",
   "name": "python",
   "nbconvert_exporter": "python",
   "pygments_lexer": "ipython3",
   "version": "3.13.5"
  }
 },
 "nbformat": 4,
 "nbformat_minor": 5
}
