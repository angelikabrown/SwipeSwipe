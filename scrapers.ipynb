{
 "cells": [
  {
   "cell_type": "code",
   "execution_count": 1,
   "id": "92daa4cb",
   "metadata": {},
   "outputs": [],
   "source": [
    "import selenium\n",
    "from selenium import webdriver\n",
    "from selenium.webdriver.chrome.service import Service\n",
    "import bs4\n",
    "from bs4 import BeautifulSoup"
   ]
  },
  {
   "cell_type": "code",
   "execution_count": 7,
   "id": "231679ad",
   "metadata": {},
   "outputs": [],
   "source": [
    "# I don't get this part just yet...connects to a the Chrome browser so it can be able to scrape?\n",
    "#alright. this code creates a Selenium Webdriver for Chrome\n",
    "service = Service('/Users/angel/Downloads/chromedriver-mac-x64/chromedriver')\n",
    "# Initialize the Selenium WebDriver using the existing service object\n",
    "driver = webdriver.Chrome(service=service)"
   ]
  },
  {
   "cell_type": "code",
   "execution_count": 9,
   "id": "33b88fc3",
   "metadata": {},
   "outputs": [],
   "source": [
    "#testing testing\n",
    "driver.get('https://books.toscrape.com/')"
   ]
  },
  {
   "cell_type": "code",
   "execution_count": null,
   "id": "568440e4",
   "metadata": {},
   "outputs": [],
   "source": []
  },
  {
   "cell_type": "markdown",
   "id": "59b2071c",
   "metadata": {},
   "source": [
    "Grabbing each element in books.toscrape.com"
   ]
  },
  {
   "cell_type": "code",
   "execution_count": 11,
   "id": "f978d722",
   "metadata": {},
   "outputs": [],
   "source": [
    "from selenium.webdriver.common.by import By"
   ]
  },
  {
   "cell_type": "code",
   "execution_count": 14,
   "id": "379ed1a5",
   "metadata": {},
   "outputs": [],
   "source": [
    "title_element = driver.find_element(By.XPATH, '//*[@id=\"default\"]/div/div/div/div/section/div[2]/ol/li[1]/article/h3/a')"
   ]
  },
  {
   "cell_type": "code",
   "execution_count": 15,
   "id": "eb77612e",
   "metadata": {},
   "outputs": [
    {
     "data": {
      "text/plain": [
       "'A Light in the ...'"
      ]
     },
     "execution_count": 15,
     "metadata": {},
     "output_type": "execute_result"
    }
   ],
   "source": [
    "title = title_element.text\n",
    "title"
   ]
  },
  {
   "cell_type": "code",
   "execution_count": 17,
   "id": "0e8c8ce6",
   "metadata": {},
   "outputs": [
    {
     "data": {
      "text/plain": [
       "'A Light in the Attic'"
      ]
     },
     "execution_count": 17,
     "metadata": {},
     "output_type": "execute_result"
    }
   ],
   "source": [
    "title = title_element.get_attribute('title')\n",
    "title #should be \"A Light in the Attic\""
   ]
  },
  {
   "cell_type": "markdown",
   "id": "1bb8330d",
   "metadata": {},
   "source": [
    "We scraped one title--let's scraped them all!"
   ]
  },
  {
   "cell_type": "code",
   "execution_count": 18,
   "id": "13dd256e",
   "metadata": {},
   "outputs": [
    {
     "ename": "AttributeError",
     "evalue": "'WebElement' object has no attribute 'format'",
     "output_type": "error",
     "traceback": [
      "\u001b[31m---------------------------------------------------------------------------\u001b[39m",
      "\u001b[31mAttributeError\u001b[39m                            Traceback (most recent call last)",
      "\u001b[36mCell\u001b[39m\u001b[36m \u001b[39m\u001b[32mIn[18]\u001b[39m\u001b[32m, line 6\u001b[39m\n\u001b[32m      3\u001b[39m \u001b[38;5;66;03m#write a loop to scrape titles on the first page\u001b[39;00m\n\u001b[32m      5\u001b[39m \u001b[38;5;28;01mfor\u001b[39;00m i \u001b[38;5;129;01min\u001b[39;00m \u001b[38;5;28mrange\u001b[39m(\u001b[32m1\u001b[39m, \u001b[32m21\u001b[39m):\n\u001b[32m----> \u001b[39m\u001b[32m6\u001b[39m     title_element = \u001b[43mdriver\u001b[49m\u001b[43m.\u001b[49m\u001b[43mfind_element\u001b[49m\u001b[43m(\u001b[49m\u001b[43mBy\u001b[49m\u001b[43m.\u001b[49m\u001b[43mXPATH\u001b[49m\u001b[43m,\u001b[49m\u001b[43m \u001b[49m\u001b[33;43m'\u001b[39;49m\u001b[33;43m//*[@id=\u001b[39;49m\u001b[33;43m\"\u001b[39;49m\u001b[33;43mdefault\u001b[39;49m\u001b[33;43m\"\u001b[39;49m\u001b[33;43m]/div/div/div/div/section/div[2]/ol/li[1]/article/h3/a\u001b[39;49m\u001b[33;43m'\u001b[39;49m\u001b[43m)\u001b[49m\u001b[43m.\u001b[49m\u001b[43mformat\u001b[49m(i)[\u001b[32m0\u001b[39m]\n\u001b[32m      7\u001b[39m     title_list.appened(title_element.get_attribute(\u001b[33m'\u001b[39m\u001b[33mtitle\u001b[39m\u001b[33m'\u001b[39m))\n\u001b[32m      9\u001b[39m \u001b[38;5;28mprint\u001b[39m(\u001b[33m'\u001b[39m\u001b[33mSuccessfully scraped \u001b[39m\u001b[38;5;132;01m{}\u001b[39;00m\u001b[33m titles\u001b[39m\u001b[33m'\u001b[39m.format(\u001b[38;5;28mlen\u001b[39m(title_list)))\n",
      "\u001b[31mAttributeError\u001b[39m: 'WebElement' object has no attribute 'format'"
     ]
    }
   ],
   "source": [
    "title_list = []\n",
    "\n",
    "#write a loop to scrape titles on the first page\n",
    "\n",
    "for i in range(1, 21):\n",
    "    title_element = driver.find_element(By.XPATH, '//*[@id=\"default\"]/div/div/div/div/section/div[2]/ol/li[1]/article/h3/a').format(i)[0]\n",
    "    title_list.appened(title_element.get_attribute('title'))\n",
    "\n",
    "print('Successfully scraped {} titles'.format(len(title_list)))"
   ]
  }
 ],
 "metadata": {
  "kernelspec": {
   "display_name": "global_env",
   "language": "python",
   "name": "python3"
  },
  "language_info": {
   "codemirror_mode": {
    "name": "ipython",
    "version": 3
   },
   "file_extension": ".py",
   "mimetype": "text/x-python",
   "name": "python",
   "nbconvert_exporter": "python",
   "pygments_lexer": "ipython3",
   "version": "3.13.5"
  }
 },
 "nbformat": 4,
 "nbformat_minor": 5
}
