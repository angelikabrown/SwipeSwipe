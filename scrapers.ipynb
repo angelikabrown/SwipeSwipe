{
 "cells": [
  {
   "cell_type": "code",
   "execution_count": 4,
   "id": "92daa4cb",
   "metadata": {},
   "outputs": [],
   "source": [
    "import selenium\n",
    "from selenium import webdriver\n",
    "from selenium.webdriver.chrome.service import Service\n",
    "import bs4\n",
    "from bs4 import BeautifulSoup"
   ]
  },
  {
   "cell_type": "code",
   "execution_count": null,
   "id": "231679ad",
   "metadata": {},
   "outputs": [],
   "source": [
    "# I don't get this part just yet...connects to a the Chrome browser so it can be able to scrape?\n",
    "#alright. this code creates a Selenium Webdriver for Chrome\n",
    "\n",
    "#the path to chromedriver\n",
    "service = Service('/Users/angel/Desktop/Python_Projects/SwipeSwipe/chromedriver')\n",
    "# Initialize the WebDriver\n",
    "driver = webdriver.Chrome(service=service)"
   ]
  },
  {
   "cell_type": "code",
   "execution_count": null,
   "id": "33b88fc3",
   "metadata": {},
   "outputs": [],
   "source": [
    "#testing testing\n",
    "driver.get('https://books.toscrape.com/')"
   ]
  }
 ],
 "metadata": {
  "kernelspec": {
   "display_name": "global_env",
   "language": "python",
   "name": "python3"
  },
  "language_info": {
   "codemirror_mode": {
    "name": "ipython",
    "version": 3
   },
   "file_extension": ".py",
   "mimetype": "text/x-python",
   "name": "python",
   "nbconvert_exporter": "python",
   "pygments_lexer": "ipython3",
   "version": "3.13.5"
  }
 },
 "nbformat": 4,
 "nbformat_minor": 5
}
