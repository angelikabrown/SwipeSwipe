{
 "cells": [
  {
   "cell_type": "code",
   "execution_count": 1,
   "id": "92daa4cb",
   "metadata": {},
   "outputs": [],
   "source": [
    "import selenium\n",
    "from selenium import webdriver\n",
    "from selenium.webdriver.chrome.service import Service\n",
    "import bs4\n",
    "from bs4 import BeautifulSoup"
   ]
  },
  {
   "cell_type": "code",
   "execution_count": 7,
   "id": "231679ad",
   "metadata": {},
   "outputs": [],
   "source": [
    "# I don't get this part just yet...connects to a the Chrome browser so it can be able to scrape?\n",
    "#alright. this code creates a Selenium Webdriver for Chrome\n",
    "service = Service('/Users/angel/Downloads/chromedriver-mac-x64/chromedriver')\n",
    "# Initialize the Selenium WebDriver using the existing service object\n",
    "driver = webdriver.Chrome(service=service)"
   ]
  },
  {
   "cell_type": "code",
   "execution_count": 9,
   "id": "33b88fc3",
   "metadata": {},
   "outputs": [],
   "source": [
    "#testing testing\n",
    "driver.get('https://books.toscrape.com/')"
   ]
  },
  {
   "cell_type": "code",
   "execution_count": null,
   "id": "568440e4",
   "metadata": {},
   "outputs": [],
   "source": []
  },
  {
   "cell_type": "markdown",
   "id": "59b2071c",
   "metadata": {},
   "source": [
    "Grabbing each element in books.toscrape.com"
   ]
  },
  {
   "cell_type": "code",
   "execution_count": 11,
   "id": "f978d722",
   "metadata": {},
   "outputs": [],
   "source": [
    "from selenium.webdriver.common.by import By"
   ]
  },
  {
   "cell_type": "code",
   "execution_count": 14,
   "id": "379ed1a5",
   "metadata": {},
   "outputs": [],
   "source": [
    "title_element = driver.find_element(By.XPATH, '//*[@id=\"default\"]/div/div/div/div/section/div[2]/ol/li[1]/article/h3/a')"
   ]
  },
  {
   "cell_type": "code",
   "execution_count": 15,
   "id": "eb77612e",
   "metadata": {},
   "outputs": [
    {
     "data": {
      "text/plain": [
       "'A Light in the ...'"
      ]
     },
     "execution_count": 15,
     "metadata": {},
     "output_type": "execute_result"
    }
   ],
   "source": [
    "title = title_element.text\n",
    "title"
   ]
  },
  {
   "cell_type": "code",
   "execution_count": 17,
   "id": "0e8c8ce6",
   "metadata": {},
   "outputs": [
    {
     "data": {
      "text/plain": [
       "'A Light in the Attic'"
      ]
     },
     "execution_count": 17,
     "metadata": {},
     "output_type": "execute_result"
    }
   ],
   "source": [
    "title = title_element.get_attribute('title')\n",
    "title #should be \"A Light in the Attic\""
   ]
  },
  {
   "cell_type": "markdown",
   "id": "1bb8330d",
   "metadata": {},
   "source": [
    "We scraped one title--let's scraped them all!"
   ]
  },
  {
   "cell_type": "code",
   "execution_count": 22,
   "id": "13dd256e",
   "metadata": {},
   "outputs": [
    {
     "name": "stdout",
     "output_type": "stream",
     "text": [
      "Successfully scraped 20 titles\n"
     ]
    }
   ],
   "source": [
    "title_list = []\n",
    "\n",
    "#write a loop to scrape titles on the first page\n",
    "\n",
    "for i in range(1, 21):\n",
    "    title_element = driver.find_element(By.XPATH, '//*[@id=\"default\"]/div/div/div/div/section/div[2]/ol/li[{}]/article/h3/a'.format(i))\n",
    "    title_list.append(title_element.get_attribute('title'))\n",
    "\n",
    "print('Successfully scraped {} titles'.format(len(title_list)))"
   ]
  },
  {
   "cell_type": "code",
   "execution_count": null,
   "id": "c760ddee",
   "metadata": {},
   "outputs": [
    {
     "name": "stdout",
     "output_type": "stream",
     "text": [
      "Successfully scraped 1000 titles\n"
     ]
    }
   ],
   "source": [
    "title_list = []\n",
    "\n",
    "# Loops through the first 50 pages to scrape 1000 titles\n",
    "\n",
    "for i in range(1, 51):\n",
    "    driver.get('http://books.toscrape.com/catalogue/page-{}.html'.format(i))\n",
    "    for j in range(1, 21):\n",
    "        title_element = driver.find_element(By.XPATH, '//*[@id=\"default\"]/div/div/div/div/section/div[2]/ol/li[{}]/article/h3/a'.format(j))\n",
    "        title_list.append(title_element.get_attribute('title'))\n",
    "\n",
    "driver.quit()\n",
    "print('Successfully scraped {} titles'.format(len(title_list)))"
   ]
  },
  {
   "cell_type": "code",
   "execution_count": null,
   "id": "61b858bc",
   "metadata": {},
   "outputs": [],
   "source": [
    "#using chromedriver with launching a GUI\n",
    "from selenium.webdriver.chrome.options import Options\n",
    "\n",
    "options = Options()\n",
    "options.headless = True  # Run in headless mode (no GUI)\n",
    "driver = webdriver.Chrome(service=service, options=options)"
   ]
  },
  {
   "cell_type": "code",
   "execution_count": null,
   "id": "1a094a28",
   "metadata": {},
   "outputs": [],
   "source": [
    "title_list = []\n",
    "# Loops through the first 50 pages to scrape 1000 titles without a GUI\n",
    "for i in range(1, 51):\n",
    "    driver.get('http://books.toscrape.com/catalogue/page-{}.html'.format(i))\n",
    "    for j in range(1, 21):\n",
    "        title_element = driver.find_element(By.XPATH, '//*[@id=\"default\"]/div/div/div/div/section/div[2]/ol/li[{}]/article/h3/a'.format(j))\n",
    "        title_list.append(title_element.get_attribute('title'))"
   ]
  }
 ],
 "metadata": {
  "kernelspec": {
   "display_name": "global_env",
   "language": "python",
   "name": "python3"
  },
  "language_info": {
   "codemirror_mode": {
    "name": "ipython",
    "version": 3
   },
   "file_extension": ".py",
   "mimetype": "text/x-python",
   "name": "python",
   "nbconvert_exporter": "python",
   "pygments_lexer": "ipython3",
   "version": "3.13.5"
  }
 },
 "nbformat": 4,
 "nbformat_minor": 5
}
